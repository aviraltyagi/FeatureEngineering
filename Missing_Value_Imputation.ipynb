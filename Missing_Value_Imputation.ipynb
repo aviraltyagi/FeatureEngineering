{
  "nbformat": 4,
  "nbformat_minor": 0,
  "metadata": {
    "colab": {
      "name": "Missing Value Imputation.ipynb",
      "provenance": [],
      "collapsed_sections": [
        "1Uf83xGnx2QU"
      ]
    },
    "kernelspec": {
      "name": "python3",
      "display_name": "Python 3"
    },
    "accelerator": "GPU"
  },
  "cells": [
    {
      "cell_type": "markdown",
      "metadata": {
        "id": "hDAt0x-RnJmo"
      },
      "source": [
        "What is Missing Value Imputation?\r\n",
        "\r\n",
        "Imputation is the act of replacing missing data with statistical estimates of the missing values. The goal of any imputation technique is to produce a complete data set that can be used to train machine learning models."
      ]
    },
    {
      "cell_type": "code",
      "metadata": {
        "id": "UI5Tzr79niSb"
      },
      "source": [
        "import pandas as pd\r\n",
        "import numpy as np\r\n",
        "import os\r\n",
        "os.environ['KAGGLE_CONFIG_DIR'] = '/content'"
      ],
      "execution_count": 5,
      "outputs": []
    },
    {
      "cell_type": "code",
      "metadata": {
        "colab": {
          "base_uri": "https://localhost:8080/"
        },
        "id": "4LOeKnq8oqjq",
        "outputId": "1ead6aff-ce3c-4157-c238-a3f9affac47a"
      },
      "source": [
        "!kaggle datasets download -d abhisheksingh000261/houseprice"
      ],
      "execution_count": 6,
      "outputs": [
        {
          "output_type": "stream",
          "text": [
            "Warning: Your Kaggle API key is readable by other users on this system! To fix this, you can run 'chmod 600 /content/kaggle.json'\n",
            "Downloading houseprice.zip to /content\n",
            "  0% 0.00/94.0k [00:00<?, ?B/s]\n",
            "100% 94.0k/94.0k [00:00<00:00, 35.7MB/s]\n"
          ],
          "name": "stdout"
        }
      ]
    },
    {
      "cell_type": "code",
      "metadata": {
        "colab": {
          "base_uri": "https://localhost:8080/"
        },
        "id": "aTKRUcUXpDiB",
        "outputId": "79dd4514-780a-4597-d08c-7f2360eb6cdd"
      },
      "source": [
        "!unzip \\*.zip && rm *.zip"
      ],
      "execution_count": 7,
      "outputs": [
        {
          "output_type": "stream",
          "text": [
            "Archive:  houseprice.zip\n",
            "  inflating: houseprice.csv          \n"
          ],
          "name": "stdout"
        }
      ]
    },
    {
      "cell_type": "code",
      "metadata": {
        "id": "6hqe2pfppIjt"
      },
      "source": [
        "df = pd.read_csv(\"/content/houseprice.csv\")"
      ],
      "execution_count": 25,
      "outputs": []
    },
    {
      "cell_type": "code",
      "metadata": {
        "id": "6LL1nPUrrJHJ"
      },
      "source": [
        "def missing_value_columns(dataframe):\r\n",
        "  columns = []\r\n",
        "  for column in dataframe.columns:\r\n",
        "    if (dataframe[column].isnull().sum() > 0):\r\n",
        "      print(f\"{column} : {dataframe[column].isnull().sum()}\")\r\n",
        "      columns.append(column)\r\n",
        "  print(f\"Total columns with missing values: {len(columns)}\")\r\n",
        "  return columns"
      ],
      "execution_count": 26,
      "outputs": []
    },
    {
      "cell_type": "markdown",
      "metadata": {
        "id": "mj8t5b7BpRZC"
      },
      "source": [
        "### Check missing values"
      ]
    },
    {
      "cell_type": "code",
      "metadata": {
        "colab": {
          "base_uri": "https://localhost:8080/"
        },
        "id": "RNc6Cs-OpUpt",
        "outputId": "552c46af-1f90-4b96-f9f8-61a4b01bb9fb"
      },
      "source": [
        "columns = missing_value_columns(df)"
      ],
      "execution_count": 27,
      "outputs": [
        {
          "output_type": "stream",
          "text": [
            "LotFrontage : 259\n",
            "Alley : 1369\n",
            "MasVnrType : 8\n",
            "MasVnrArea : 8\n",
            "BsmtQual : 37\n",
            "BsmtCond : 37\n",
            "BsmtExposure : 38\n",
            "BsmtFinType1 : 37\n",
            "BsmtFinType2 : 38\n",
            "Electrical : 1\n",
            "FireplaceQu : 690\n",
            "GarageType : 81\n",
            "GarageYrBlt : 81\n",
            "GarageFinish : 81\n",
            "GarageQual : 81\n",
            "GarageCond : 81\n",
            "PoolQC : 1453\n",
            "Fence : 1179\n",
            "MiscFeature : 1406\n",
            "Total columns with missing values: 19\n"
          ],
          "name": "stdout"
        }
      ]
    },
    {
      "cell_type": "code",
      "metadata": {
        "colab": {
          "base_uri": "https://localhost:8080/",
          "height": 215
        },
        "id": "B_AWjZrLtrYx",
        "outputId": "d0f50741-cca4-43a2-b9f4-daf945948a6a"
      },
      "source": [
        "df[columns].head(5)"
      ],
      "execution_count": 28,
      "outputs": [
        {
          "output_type": "execute_result",
          "data": {
            "text/html": [
              "<div>\n",
              "<style scoped>\n",
              "    .dataframe tbody tr th:only-of-type {\n",
              "        vertical-align: middle;\n",
              "    }\n",
              "\n",
              "    .dataframe tbody tr th {\n",
              "        vertical-align: top;\n",
              "    }\n",
              "\n",
              "    .dataframe thead th {\n",
              "        text-align: right;\n",
              "    }\n",
              "</style>\n",
              "<table border=\"1\" class=\"dataframe\">\n",
              "  <thead>\n",
              "    <tr style=\"text-align: right;\">\n",
              "      <th></th>\n",
              "      <th>LotFrontage</th>\n",
              "      <th>Alley</th>\n",
              "      <th>MasVnrType</th>\n",
              "      <th>MasVnrArea</th>\n",
              "      <th>BsmtQual</th>\n",
              "      <th>BsmtCond</th>\n",
              "      <th>BsmtExposure</th>\n",
              "      <th>BsmtFinType1</th>\n",
              "      <th>BsmtFinType2</th>\n",
              "      <th>Electrical</th>\n",
              "      <th>FireplaceQu</th>\n",
              "      <th>GarageType</th>\n",
              "      <th>GarageYrBlt</th>\n",
              "      <th>GarageFinish</th>\n",
              "      <th>GarageQual</th>\n",
              "      <th>GarageCond</th>\n",
              "      <th>PoolQC</th>\n",
              "      <th>Fence</th>\n",
              "      <th>MiscFeature</th>\n",
              "    </tr>\n",
              "  </thead>\n",
              "  <tbody>\n",
              "    <tr>\n",
              "      <th>0</th>\n",
              "      <td>65.0</td>\n",
              "      <td>NaN</td>\n",
              "      <td>BrkFace</td>\n",
              "      <td>196.0</td>\n",
              "      <td>Gd</td>\n",
              "      <td>TA</td>\n",
              "      <td>No</td>\n",
              "      <td>GLQ</td>\n",
              "      <td>Unf</td>\n",
              "      <td>SBrkr</td>\n",
              "      <td>NaN</td>\n",
              "      <td>Attchd</td>\n",
              "      <td>2003.0</td>\n",
              "      <td>RFn</td>\n",
              "      <td>TA</td>\n",
              "      <td>TA</td>\n",
              "      <td>NaN</td>\n",
              "      <td>NaN</td>\n",
              "      <td>NaN</td>\n",
              "    </tr>\n",
              "    <tr>\n",
              "      <th>1</th>\n",
              "      <td>80.0</td>\n",
              "      <td>NaN</td>\n",
              "      <td>None</td>\n",
              "      <td>0.0</td>\n",
              "      <td>Gd</td>\n",
              "      <td>TA</td>\n",
              "      <td>Gd</td>\n",
              "      <td>ALQ</td>\n",
              "      <td>Unf</td>\n",
              "      <td>SBrkr</td>\n",
              "      <td>TA</td>\n",
              "      <td>Attchd</td>\n",
              "      <td>1976.0</td>\n",
              "      <td>RFn</td>\n",
              "      <td>TA</td>\n",
              "      <td>TA</td>\n",
              "      <td>NaN</td>\n",
              "      <td>NaN</td>\n",
              "      <td>NaN</td>\n",
              "    </tr>\n",
              "    <tr>\n",
              "      <th>2</th>\n",
              "      <td>68.0</td>\n",
              "      <td>NaN</td>\n",
              "      <td>BrkFace</td>\n",
              "      <td>162.0</td>\n",
              "      <td>Gd</td>\n",
              "      <td>TA</td>\n",
              "      <td>Mn</td>\n",
              "      <td>GLQ</td>\n",
              "      <td>Unf</td>\n",
              "      <td>SBrkr</td>\n",
              "      <td>TA</td>\n",
              "      <td>Attchd</td>\n",
              "      <td>2001.0</td>\n",
              "      <td>RFn</td>\n",
              "      <td>TA</td>\n",
              "      <td>TA</td>\n",
              "      <td>NaN</td>\n",
              "      <td>NaN</td>\n",
              "      <td>NaN</td>\n",
              "    </tr>\n",
              "    <tr>\n",
              "      <th>3</th>\n",
              "      <td>60.0</td>\n",
              "      <td>NaN</td>\n",
              "      <td>None</td>\n",
              "      <td>0.0</td>\n",
              "      <td>TA</td>\n",
              "      <td>Gd</td>\n",
              "      <td>No</td>\n",
              "      <td>ALQ</td>\n",
              "      <td>Unf</td>\n",
              "      <td>SBrkr</td>\n",
              "      <td>Gd</td>\n",
              "      <td>Detchd</td>\n",
              "      <td>1998.0</td>\n",
              "      <td>Unf</td>\n",
              "      <td>TA</td>\n",
              "      <td>TA</td>\n",
              "      <td>NaN</td>\n",
              "      <td>NaN</td>\n",
              "      <td>NaN</td>\n",
              "    </tr>\n",
              "    <tr>\n",
              "      <th>4</th>\n",
              "      <td>84.0</td>\n",
              "      <td>NaN</td>\n",
              "      <td>BrkFace</td>\n",
              "      <td>350.0</td>\n",
              "      <td>Gd</td>\n",
              "      <td>TA</td>\n",
              "      <td>Av</td>\n",
              "      <td>GLQ</td>\n",
              "      <td>Unf</td>\n",
              "      <td>SBrkr</td>\n",
              "      <td>TA</td>\n",
              "      <td>Attchd</td>\n",
              "      <td>2000.0</td>\n",
              "      <td>RFn</td>\n",
              "      <td>TA</td>\n",
              "      <td>TA</td>\n",
              "      <td>NaN</td>\n",
              "      <td>NaN</td>\n",
              "      <td>NaN</td>\n",
              "    </tr>\n",
              "  </tbody>\n",
              "</table>\n",
              "</div>"
            ],
            "text/plain": [
              "   LotFrontage Alley MasVnrType  MasVnrArea  ... GarageCond PoolQC Fence MiscFeature\n",
              "0         65.0   NaN    BrkFace       196.0  ...         TA    NaN   NaN         NaN\n",
              "1         80.0   NaN       None         0.0  ...         TA    NaN   NaN         NaN\n",
              "2         68.0   NaN    BrkFace       162.0  ...         TA    NaN   NaN         NaN\n",
              "3         60.0   NaN       None         0.0  ...         TA    NaN   NaN         NaN\n",
              "4         84.0   NaN    BrkFace       350.0  ...         TA    NaN   NaN         NaN\n",
              "\n",
              "[5 rows x 19 columns]"
            ]
          },
          "metadata": {
            "tags": []
          },
          "execution_count": 28
        }
      ]
    },
    {
      "cell_type": "markdown",
      "metadata": {
        "id": "SI2cdjaMncUh"
      },
      "source": [
        "### Droping all the missing values"
      ]
    },
    {
      "cell_type": "code",
      "metadata": {
        "colab": {
          "base_uri": "https://localhost:8080/"
        },
        "id": "RANPlWhKm9BW",
        "outputId": "97d3b518-9560-4fd2-ff2a-79bfd68f37a6"
      },
      "source": [
        "# Let's drop all the missing values from column LotFrontage\r\n",
        "x1 = df.copy()\r\n",
        "x1.dropna(axis=0, subset=['LotFrontage'], inplace=True)\r\n",
        "x1['LotFrontage'].isnull().sum()"
      ],
      "execution_count": 30,
      "outputs": [
        {
          "output_type": "execute_result",
          "data": {
            "text/plain": [
              "0"
            ]
          },
          "metadata": {
            "tags": []
          },
          "execution_count": 30
        }
      ]
    },
    {
      "cell_type": "markdown",
      "metadata": {
        "id": "qxWwcfKVt-wR"
      },
      "source": [
        "### Univariate Imputation\r\n",
        "\r\n",
        "This class provides basic strategies (eg. Mean, Median, Most Frequent and Constant) for imputing missing values\r\n",
        "\r\n",
        "sklearn.impute.SimpleImputer\r\n",
        "\r\n",
        "feature_engine.imputation.MeanMedianImputer"
      ]
    },
    {
      "cell_type": "code",
      "metadata": {
        "colab": {
          "base_uri": "https://localhost:8080/"
        },
        "id": "dVc0F4zMu3o5",
        "outputId": "701cb964-e7fd-4776-c8fa-cb0cabbab160"
      },
      "source": [
        "!pip install feature-engine\r\n",
        "from sklearn.impute import SimpleImputer\r\n",
        "from feature_engine.imputation import MeanMedianImputer"
      ],
      "execution_count": 31,
      "outputs": [
        {
          "output_type": "stream",
          "text": [
            "Requirement already satisfied: feature-engine in /usr/local/lib/python3.6/dist-packages (1.0.2)\n",
            "Requirement already satisfied: scipy>=1.4.1 in /usr/local/lib/python3.6/dist-packages (from feature-engine) (1.4.1)\n",
            "Requirement already satisfied: pandas>=1.0.3 in /usr/local/lib/python3.6/dist-packages (from feature-engine) (1.1.5)\n",
            "Requirement already satisfied: numpy>=1.18.2 in /usr/local/lib/python3.6/dist-packages (from feature-engine) (1.19.5)\n",
            "Requirement already satisfied: scikit-learn>=0.22.2 in /usr/local/lib/python3.6/dist-packages (from feature-engine) (0.22.2.post1)\n",
            "Requirement already satisfied: statsmodels>=0.11.1 in /usr/local/lib/python3.6/dist-packages (from feature-engine) (0.12.1)\n",
            "Requirement already satisfied: pytz>=2017.2 in /usr/local/lib/python3.6/dist-packages (from pandas>=1.0.3->feature-engine) (2018.9)\n",
            "Requirement already satisfied: python-dateutil>=2.7.3 in /usr/local/lib/python3.6/dist-packages (from pandas>=1.0.3->feature-engine) (2.8.1)\n",
            "Requirement already satisfied: joblib>=0.11 in /usr/local/lib/python3.6/dist-packages (from scikit-learn>=0.22.2->feature-engine) (1.0.0)\n",
            "Requirement already satisfied: patsy>=0.5 in /usr/local/lib/python3.6/dist-packages (from statsmodels>=0.11.1->feature-engine) (0.5.1)\n",
            "Requirement already satisfied: six>=1.5 in /usr/local/lib/python3.6/dist-packages (from python-dateutil>=2.7.3->pandas>=1.0.3->feature-engine) (1.15.0)\n"
          ],
          "name": "stdout"
        }
      ]
    },
    {
      "cell_type": "code",
      "metadata": {
        "colab": {
          "base_uri": "https://localhost:8080/"
        },
        "id": "i-ql9YAXt800",
        "outputId": "16c961a3-2c2b-4225-d402-5b4f67b21256"
      },
      "source": [
        "# Let's replace the missing values in MasVnrArea column with mean value of the column\r\n",
        "mean_imputer = SimpleImputer(missing_values= np.nan, strategy= 'mean')\r\n",
        "x2 = df.copy()\r\n",
        "x2[['MasVnrArea']] = mean_imputer.fit_transform(x2[['MasVnrArea']])\r\n",
        "x2['MasVnrArea'].isnull().sum()\r\n",
        "# Similarly we can replace with Median, Most Frequent and even with constant using SimpleImputer of sklearn"
      ],
      "execution_count": 32,
      "outputs": [
        {
          "output_type": "execute_result",
          "data": {
            "text/plain": [
              "0"
            ]
          },
          "metadata": {
            "tags": []
          },
          "execution_count": 32
        }
      ]
    },
    {
      "cell_type": "code",
      "metadata": {
        "colab": {
          "base_uri": "https://localhost:8080/"
        },
        "id": "dPnIxJwFw_i6",
        "outputId": "d6b7adc9-3f69-4d7a-e63f-c4f2f0a1f565"
      },
      "source": [
        "median_imputer = MeanMedianImputer(imputation_method='median', variables= ['GarageYrBlt'])\r\n",
        "x3 = df.copy()\r\n",
        "x3 = median_imputer.fit_transform(x3)\r\n",
        "x3['GarageYrBlt'].isnull().sum()"
      ],
      "execution_count": 35,
      "outputs": [
        {
          "output_type": "execute_result",
          "data": {
            "text/plain": [
              "0"
            ]
          },
          "metadata": {
            "tags": []
          },
          "execution_count": 35
        }
      ]
    },
    {
      "cell_type": "markdown",
      "metadata": {
        "id": "1Uf83xGnx2QU"
      },
      "source": [
        "### Multivariate Imputation\r\n",
        "\r\n",
        "A strategy for imputing missing values by modeling each feature with missing values as a function of other features in a round-robin fashion.\r\n",
        "Here, we can pass a ML model to replace the missing values.\r\n",
        "\r\n",
        "sklearn.impute.IterativeImputer"
      ]
    },
    {
      "cell_type": "code",
      "metadata": {
        "id": "eABAick7yKjv"
      },
      "source": [
        "from sklearn.experimental import enable_iterative_imputer\r\n",
        "from sklearn.impute import IterativeImputer\r\n",
        "from sklearn.tree import DecisionTreeClassifier"
      ],
      "execution_count": 36,
      "outputs": []
    },
    {
      "cell_type": "code",
      "metadata": {
        "colab": {
          "base_uri": "https://localhost:8080/"
        },
        "id": "6Hesm2lyyovq",
        "outputId": "996a4d73-40dd-4de8-b8f0-1364ad929365"
      },
      "source": [
        "decisiontree_imputer = IterativeImputer(estimator= DecisionTreeClassifier())\r\n",
        "x4 = df.copy()\r\n",
        "x4[['GarageYrBlt']] = decisiontree_imputer.fit_transform(x4[['GarageYrBlt']])\r\n",
        "x4['GarageYrBlt'].isnull().sum()"
      ],
      "execution_count": 37,
      "outputs": [
        {
          "output_type": "execute_result",
          "data": {
            "text/plain": [
              "0"
            ]
          },
          "metadata": {
            "tags": []
          },
          "execution_count": 37
        }
      ]
    },
    {
      "cell_type": "markdown",
      "metadata": {
        "id": "sSsUlV0E2brN"
      },
      "source": [
        "### Categorical Imputer\r\n",
        "\r\n",
        "The CategoricalImputer() replaces missing data in categorical variables by a string like ‘Missing’ or any other entered by the user. Alternatively, it replaces missing data by the most frequent category."
      ]
    },
    {
      "cell_type": "code",
      "metadata": {
        "id": "tOtUi8mZ2eSl"
      },
      "source": [
        "from feature_engine.imputation import CategoricalImputer"
      ],
      "execution_count": 39,
      "outputs": []
    },
    {
      "cell_type": "code",
      "metadata": {
        "colab": {
          "base_uri": "https://localhost:8080/"
        },
        "id": "N41j0Cnc2lSs",
        "outputId": "4a9ba704-b417-4fe4-c23b-e52c469329bd"
      },
      "source": [
        "categorical_imputer = CategoricalImputer(fill_value='Gd', variables= ['BsmtQual'])\r\n",
        "x5 = df.copy()\r\n",
        "x5 = categorical_imputer.fit_transform(x5)\r\n",
        "x5['BsmtQual'].isnull().sum()"
      ],
      "execution_count": 44,
      "outputs": [
        {
          "output_type": "execute_result",
          "data": {
            "text/plain": [
              "0"
            ]
          },
          "metadata": {
            "tags": []
          },
          "execution_count": 44
        }
      ]
    }
  ]
}